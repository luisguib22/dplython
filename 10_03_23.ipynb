{
  "nbformat": 4,
  "nbformat_minor": 0,
  "metadata": {
    "colab": {
      "provenance": [],
      "authorship_tag": "ABX9TyMI3ai6i8q/tu2eZgb5GK6m",
      "include_colab_link": true
    },
    "kernelspec": {
      "name": "python3",
      "display_name": "Python 3"
    },
    "language_info": {
      "name": "python"
    }
  },
  "cells": [
    {
      "cell_type": "markdown",
      "metadata": {
        "id": "view-in-github",
        "colab_type": "text"
      },
      "source": [
        "<a href=\"https://colab.research.google.com/github/luisguib22/dplython/blob/master/10_03_23.ipynb\" target=\"_parent\"><img src=\"https://colab.research.google.com/assets/colab-badge.svg\" alt=\"Open In Colab\"/></a>"
      ]
    },
    {
      "cell_type": "code",
      "execution_count": null,
      "metadata": {
        "id": "v9sj5CD7Nsx7",
        "colab": {
          "base_uri": "https://localhost:8080/"
        },
        "outputId": "260d02de-6667-4c69-d9f3-a4c3abe19649"
      },
      "outputs": [
        {
          "name": "stdout",
          "output_type": "stream",
          "text": [
            "-56\n",
            "debe ser un entero de 1 a 9\n",
            "0\n",
            "debe ser un entero de 1 a 9\n",
            "5\n"
          ]
        }
      ],
      "source": [
        "numero = int(input())\n",
        "\n",
        "while numero > 9 or numero <= 0:\n",
        "    print(\"debe ser un entero de 1 a 9\")\n",
        "    numero = int(input())"
      ]
    },
    {
      "cell_type": "code",
      "source": [],
      "metadata": {
        "id": "P9cSu-1Sq3uy"
      },
      "execution_count": null,
      "outputs": []
    },
    {
      "cell_type": "code",
      "source": [
        "list(range(1,11))\n",
        "  "
      ],
      "metadata": {
        "colab": {
          "base_uri": "https://localhost:8080/"
        },
        "id": "W5VQr9XLj2jY",
        "outputId": "155cfeeb-9436-4871-ab8d-e019b2c50c68"
      },
      "execution_count": null,
      "outputs": [
        {
          "output_type": "execute_result",
          "data": {
            "text/plain": [
              "[1, 2, 3, 4, 5, 6, 7, 8, 9, 10]"
            ]
          },
          "metadata": {},
          "execution_count": 12
        }
      ]
    },
    {
      "cell_type": "code",
      "source": [
        "multiplos = []\n",
        "\n",
        "numero = int(input())\n",
        "\n",
        "while numero <= 0 and numero > 9:\n",
        "    numero = int(input())\n",
        "\n",
        "multiplos = list(range(numero, 101, numero))\n",
        "multiplos"
      ],
      "metadata": {
        "colab": {
          "base_uri": "https://localhost:8080/"
        },
        "id": "qPVbEAvmrEuG",
        "outputId": "1064d182-ca0e-4393-bc9a-9db75bb8bd63"
      },
      "execution_count": null,
      "outputs": [
        {
          "name": "stdout",
          "output_type": "stream",
          "text": [
            "3\n"
          ]
        },
        {
          "output_type": "execute_result",
          "data": {
            "text/plain": [
              "[3,\n",
              " 6,\n",
              " 9,\n",
              " 12,\n",
              " 15,\n",
              " 18,\n",
              " 21,\n",
              " 24,\n",
              " 27,\n",
              " 30,\n",
              " 33,\n",
              " 36,\n",
              " 39,\n",
              " 42,\n",
              " 45,\n",
              " 48,\n",
              " 51,\n",
              " 54,\n",
              " 57,\n",
              " 60,\n",
              " 63,\n",
              " 66,\n",
              " 69,\n",
              " 72,\n",
              " 75,\n",
              " 78,\n",
              " 81,\n",
              " 84,\n",
              " 87,\n",
              " 90,\n",
              " 93,\n",
              " 96,\n",
              " 99]"
            ]
          },
          "metadata": {},
          "execution_count": 30
        }
      ]
    },
    {
      "cell_type": "code",
      "source": [
        "multiplos = []\n",
        " \n",
        "# Empezamos leyendo un número entero por teclado\n",
        "numero = int(input())\n",
        " \n",
        "# Volveremos a leerlo mientras el número no se encuentre entre 1 y 9 (ambos incluidos)\n",
        "while numero < 1 or numero > 9:\n",
        "    numero = int(input())\n",
        " \n",
        "# Generamos con range toda la lista de múltiplos entre el numero y 100\n",
        "multiplos = list(range(numero, 101, numero))\n",
        "multiplos"
      ],
      "metadata": {
        "colab": {
          "base_uri": "https://localhost:8080/"
        },
        "id": "qAwbtOCCr7VY",
        "outputId": "7f5fcf71-becc-4c7b-8dea-d375043e6fef"
      },
      "execution_count": null,
      "outputs": [
        {
          "name": "stdout",
          "output_type": "stream",
          "text": [
            "6\n"
          ]
        },
        {
          "output_type": "execute_result",
          "data": {
            "text/plain": [
              "[6, 12, 18, 24, 30, 36, 42, 48, 54, 60, 66, 72, 78, 84, 90, 96]"
            ]
          },
          "metadata": {},
          "execution_count": 28
        }
      ]
    },
    {
      "cell_type": "code",
      "source": [
        "matriz = [\n",
        "    [8,  7,  0],\n",
        "    [34, 2, -1],\n",
        "    [5, -5, 12]\n",
        "]\n",
        "\n",
        "\n",
        "for i,fila in enumerate(matriz):\n",
        "    for j,columna in enumerate(fila):\n",
        "        if matriz[i][j]%2 == 0:\n",
        "          matriz[i][j] = 0\n",
        "        else:\n",
        "          matriz[i][j] = 1 \n",
        "        print(matriz[i][j], end=\" \")\n",
        "    print()\n",
        "\n",
        "  \n"
      ],
      "metadata": {
        "colab": {
          "base_uri": "https://localhost:8080/"
        },
        "id": "zWLbx-TtLTEn",
        "outputId": "5f95e0ff-c56f-4537-aca7-70dd53156040"
      },
      "execution_count": null,
      "outputs": [
        {
          "output_type": "stream",
          "name": "stdout",
          "text": [
            "0 1 0 \n",
            "0 0 1 \n",
            "1 1 0 \n"
          ]
        }
      ]
    },
    {
      "cell_type": "code",
      "source": [
        "n1 = float(input(\"Primer número: \"))\n",
        "n2 = float(input(\"Segundo número: \"))\n",
        "\n",
        "print(\"¿Qué quieres hacer?\")\n",
        "print(\"[1] Sumar los números\")\n",
        "print(\"[2] Restar los número\")\n",
        "print(\"[3] Multiplicar los números\")\n",
        "print(\"[4] Salir\")\n",
        "opcion = input(\"Elige una opción: \")\n",
        "\n",
        "if opcion == \"1\":\n",
        "  print(f'La suma de {n1} + {n2} es: {n1+n2}')\n",
        "elif opcion == \"2\":\n",
        "  print(f'La resta de {n1} - {n2} es: {n1-n2}')\n",
        "elif opcion == \"3\":\n",
        "  print(f'La multipliación de {n1} * {n2} es: {n1*n2}')\n",
        "elif opcion == \"4\":\n",
        "  print(\"Adiós\")\n",
        "\n",
        "else:\n",
        "  print(\"Opción no valida\")"
      ],
      "metadata": {
        "colab": {
          "base_uri": "https://localhost:8080/"
        },
        "id": "_psogPqyRidI",
        "outputId": "09a9f591-64cf-4482-ffd5-9c939c8f0e2a"
      },
      "execution_count": 7,
      "outputs": [
        {
          "output_type": "stream",
          "name": "stdout",
          "text": [
            "Primer número: 64\n",
            "Segundo número: 99\n",
            "¿Qué quieres hacer?\n",
            "[1] Sumar los números\n",
            "[2] Restar los número\n",
            "[3] Multiplicar los números\n",
            "[4] Salir\n",
            "Elige una opción: 7\n",
            "Opción no valida\n"
          ]
        }
      ]
    },
    {
      "cell_type": "code",
      "source": [
        "type(n1)"
      ],
      "metadata": {
        "colab": {
          "base_uri": "https://localhost:8080/"
        },
        "id": "6RYznSDeZXZF",
        "outputId": "0edafaf5-815f-498f-aae7-e33f51a31e78"
      },
      "execution_count": null,
      "outputs": [
        {
          "output_type": "execute_result",
          "data": {
            "text/plain": [
              "float"
            ]
          },
          "metadata": {},
          "execution_count": 61
        }
      ]
    },
    {
      "cell_type": "code",
      "source": [],
      "metadata": {
        "id": "P7n7jAFgaJv6"
      },
      "execution_count": null,
      "outputs": []
    }
  ]
}