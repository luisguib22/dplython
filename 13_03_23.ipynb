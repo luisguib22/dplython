{
  "nbformat": 4,
  "nbformat_minor": 0,
  "metadata": {
    "colab": {
      "provenance": [],
      "authorship_tag": "ABX9TyNiF1CilOgAafl85V5iEJHy",
      "include_colab_link": true
    },
    "kernelspec": {
      "name": "python3",
      "display_name": "Python 3"
    },
    "language_info": {
      "name": "python"
    }
  },
  "cells": [
    {
      "cell_type": "markdown",
      "metadata": {
        "id": "view-in-github",
        "colab_type": "text"
      },
      "source": [
        "<a href=\"https://colab.research.google.com/github/luisguib22/dplython/blob/master/13_03_23.ipynb\" target=\"_parent\"><img src=\"https://colab.research.google.com/assets/colab-badge.svg\" alt=\"Open In Colab\"/></a>"
      ]
    },
    {
      "cell_type": "code",
      "execution_count": 1,
      "metadata": {
        "colab": {
          "base_uri": "https://localhost:8080/"
        },
        "id": "KZESA_JuOnCT",
        "outputId": "fcff7df3-25ad-4ff9-bf56-9338e32f2701"
      },
      "outputs": [
        {
          "output_type": "stream",
          "name": "stdout",
          "text": [
            "Primer número: 45\n",
            "Segundo número: 98\n",
            "¿Qué quieres hacer?\n",
            "[1] Sumar los números\n",
            "[2] Restar los número\n",
            "[3] Multiplicar los números\n",
            "[4] Salir\n",
            "Elige una opción: 3\n",
            "La multipliación de 45.0 * 98.0 es: 4410.0\n"
          ]
        }
      ],
      "source": [
        "n1 = float(input(\"Primer número: \"))\n",
        "n2 = float(input(\"Segundo número: \"))\n",
        "\n",
        "print(\"¿Qué quieres hacer?\")\n",
        "print(\"[1] Sumar los números\")\n",
        "print(\"[2] Restar los número\")\n",
        "print(\"[3] Multiplicar los números\")\n",
        "print(\"[4] Salir\")\n",
        "opcion = input(\"Elige una opción: \")\n",
        "\n",
        "if opcion == \"1\":\n",
        "  print(f'La suma de {n1} + {n2} es: {n1+n2}')\n",
        "elif opcion == \"2\":\n",
        "  print(f'La resta de {n1} - {n2} es: {n1-n2}')\n",
        "elif opcion == \"3\":\n",
        "  print(f'La multipliación de {n1} * {n2} es: {n1*n2}')\n",
        "elif opcion == \"4\":\n",
        "  print(\"Adiós\")\n",
        "\n",
        "else:\n",
        "  print(\"Opción no valida\")"
      ]
    },
    {
      "cell_type": "code",
      "source": [
        "inp = float(input(\"Introduce un número impar: \"))\n",
        "\n",
        "while inp % 2 == 0:\n",
        "  print(\"Número par, por favor introduce un número impar\")\n",
        "  inp = float(input(\"Introduce un número impar: \"))\n",
        "  if inp % 2 != 0:\n",
        "    print(f'{inp} es un número impar')"
      ],
      "metadata": {
        "colab": {
          "base_uri": "https://localhost:8080/"
        },
        "id": "F51KfdjpPOBD",
        "outputId": "aa68e90f-bc06-4b39-fb77-7e5a966994e1"
      },
      "execution_count": 4,
      "outputs": [
        {
          "output_type": "stream",
          "name": "stdout",
          "text": [
            "Introduce un número impar: 456\n",
            "Número par, por favor introduce un número impar\n",
            "Introduce un número impar: 798\n",
            "Número par, por favor introduce un número impar\n",
            "Introduce un número impar: 87\n",
            "87.0 es un número impar\n"
          ]
        }
      ]
    },
    {
      "cell_type": "code",
      "source": [
        "a = 0\n",
        "for i in range(1,101):\n",
        "  if i%2 == 0:\n",
        "    a += i\n",
        "print(a)\n"
      ],
      "metadata": {
        "colab": {
          "base_uri": "https://localhost:8080/"
        },
        "id": "6-BaJIN3P8mA",
        "outputId": "abc11d55-e6fb-4faf-e06d-ad3fa68a29c6"
      },
      "execution_count": 14,
      "outputs": [
        {
          "output_type": "stream",
          "name": "stdout",
          "text": [
            "2550\n"
          ]
        }
      ]
    },
    {
      "cell_type": "code",
      "source": [
        "numeros = int(input(\"¿Cuántos número va a ingresar? \"))\n",
        "n = 0\n",
        "N = []\n",
        "while n < numeros:\n",
        "  m = float(input()) \n",
        "  N.append(m)\n",
        "  n+=1\n",
        "print(N)\n",
        "sum(N)\n",
        "media = (sum(N))/numeros\n",
        "print(f'La media es: {media}')\n"
      ],
      "metadata": {
        "colab": {
          "base_uri": "https://localhost:8080/"
        },
        "id": "cjSe-BQPQuaB",
        "outputId": "4c23f76c-abaa-4c36-bce7-462f5249770d"
      },
      "execution_count": 20,
      "outputs": [
        {
          "output_type": "stream",
          "name": "stdout",
          "text": [
            "¿Cuántos número va a ingresar? 5\n",
            "10\n",
            "10\n",
            "9\n",
            "8\n",
            "9\n",
            "[10.0, 10.0, 9.0, 8.0, 9.0]\n",
            "La media es: 9.2\n"
          ]
        }
      ]
    },
    {
      "cell_type": "code",
      "source": [
        "numeros = [1, 3, 6, 9]\n",
        "n1 = int(input(\"Escribe un número entre 0 y 9: \"))\n",
        "\n",
        "while n1 < 0 or n1 > 9:\n",
        "  if n1 > 9:\n",
        "    print(f'{n1} es mayor que 9, debes escribir un número entre 0 y 9')\n",
        "    n1 = int(input(\"Escribe un número entre 0 y 9: \"))\n",
        "  else:\n",
        "    print(f'{n1} es menor que 0, debes escribir un número entre 0 y 9')\n",
        "    n1 = int(input(\"Escribe un número entre 0 y 9: \"))\n",
        "\n",
        "if n1 in numeros:\n",
        "  print(f'{n1} está en {numeros}')\n",
        "else:\n",
        "  print(f'{n1} no está en {numeros}')"
      ],
      "metadata": {
        "colab": {
          "base_uri": "https://localhost:8080/"
        },
        "id": "UTyhIoXLUiBZ",
        "outputId": "bfc0dcc8-5cb1-4699-ac3a-8fe76e0b05bf"
      },
      "execution_count": 23,
      "outputs": [
        {
          "output_type": "stream",
          "name": "stdout",
          "text": [
            "Escribe un número entre 0 y 9: 15\n",
            "15 es mayor que 9, debes escribir un número entre 0 y 9\n",
            "Escribe un número entre 0 y 9: 17\n",
            "17 es mayor que 9, debes escribir un número entre 0 y 9\n",
            "Escribe un número entre 0 y 9: -9\n",
            "-9 es menor que 0, debes escribir un número entre 0 y 9\n",
            "Escribe un número entre 0 y 9: 6\n",
            "6 está en [1, 3, 6, 9]\n"
          ]
        }
      ]
    },
    {
      "cell_type": "code",
      "source": [],
      "metadata": {
        "id": "ebBDJ9q02BDu"
      },
      "execution_count": null,
      "outputs": []
    }
  ]
}